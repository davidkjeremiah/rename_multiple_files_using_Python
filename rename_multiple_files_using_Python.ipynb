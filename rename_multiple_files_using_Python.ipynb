{
 "cells": [
  {
   "cell_type": "code",
   "execution_count": 1,
   "metadata": {},
   "outputs": [],
   "source": [
    "# Python 3 code to rename multiple\n",
    "# files in a directory or folder\n",
    "\n",
    "# importing os module\n",
    "import os\n",
    "\n",
    "# Function to rename multiple files\n",
    "def main():\n",
    "\n",
    "\tfolder = \"Logo Project\" # file containing logos\n",
    "\tfor count, filename in enumerate(os.listdir(folder)):\n",
    "\t\tdst = \"logo_{}.png\".format(count)\n",
    "\t\tsrc = \"{}/{}\".format(folder, filename) # foldername/filename, if .py file is outside folder\n",
    "\t\tdst = \"{}/{}\".format(folder, dst)\n",
    "\t\t\n",
    "\t\t# rename() function will\n",
    "\t\t# rename all the files\n",
    "\t\tos.rename(src, dst)\n",
    "\n",
    "# Driver Code\n",
    "if __name__ == '__main__':\n",
    "\t\n",
    "\t# Calling main() function\n",
    "\tmain()\n"
   ]
  },
  {
   "cell_type": "code",
   "execution_count": null,
   "metadata": {},
   "outputs": [],
   "source": []
  }
 ],
 "metadata": {
  "kernelspec": {
   "display_name": "Python 3.10.6 64-bit",
   "language": "python",
   "name": "python3"
  },
  "language_info": {
   "codemirror_mode": {
    "name": "ipython",
    "version": 3
   },
   "file_extension": ".py",
   "mimetype": "text/x-python",
   "name": "python",
   "nbconvert_exporter": "python",
   "pygments_lexer": "ipython3",
   "version": "3.10.6"
  },
  "orig_nbformat": 4,
  "vscode": {
   "interpreter": {
    "hash": "63963b3f4c440940f0b94a3100916033a226cb4f45979123153792d60aa56d6a"
   }
  }
 },
 "nbformat": 4,
 "nbformat_minor": 2
}
